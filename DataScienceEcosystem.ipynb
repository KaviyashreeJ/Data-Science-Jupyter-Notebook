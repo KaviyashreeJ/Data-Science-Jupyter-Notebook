{
  "metadata": {
    "kernelspec": {
      "name": "python",
      "display_name": "Python (Pyodide)",
      "language": "python"
    },
    "language_info": {
      "codemirror_mode": {
        "name": "python",
        "version": 3
      },
      "file_extension": ".py",
      "mimetype": "text/x-python",
      "name": "python",
      "nbconvert_exporter": "python",
      "pygments_lexer": "ipython3",
      "version": "3.8"
    }
  },
  "nbformat_minor": 5,
  "nbformat": 4,
  "cells": [
    {
      "id": "8d170d30-570b-46e5-bce0-c72f313e69e4",
      "cell_type": "markdown",
      "source": "# Data Science Tools and Ecosystem",
      "metadata": {}
    },
    {
      "id": "d1069864-b02d-404c-bf1d-171fba924dbe",
      "cell_type": "markdown",
      "source": "In this notebook, Data Science Tools and Ecosystem are summarized.",
      "metadata": {}
    },
    {
      "id": "2e3cdbee-cf71-4587-894b-1f5aca48b898",
      "cell_type": "markdown",
      "source": "Some of the popular languages that Data Scientists use are:\n\n1. Python  \n2. R  \n3. SQL  \n4. Julia  \n5. Scala",
      "metadata": {}
    },
    {
      "id": "129b7603-ef08-4558-aba9-08f6649494d1",
      "cell_type": "markdown",
      "source": "Some of the commonly used libraries used by Data Scientists include:\n\n1. Numpy\n2. Pandas\n3. Matplotlib\n4. Scikit-learn\n5. Tensor Flow",
      "metadata": {}
    },
    {
      "id": "a42bcc68-d353-4de1-a7b7-eca0130faf91",
      "cell_type": "markdown",
      "source": "|Data Science Tools|\n|------------------|\n| Jupiter Notebook |\n|R Studio          |\n|Apache Zeppelin   |\n\n\n\n",
      "metadata": {}
    },
    {
      "id": "d073eb4f-257f-4272-b689-e5efb1d9f09d",
      "cell_type": "markdown",
      "source": "### Below are a few examples of evaluating arithmetic expressions in Python.\n",
      "metadata": {}
    },
    {
      "id": "0ef329a1-3363-4e70-9cda-ca966bb15ba6",
      "cell_type": "code",
      "source": "(3 * 4) + 5\n",
      "metadata": {
        "trusted": true
      },
      "outputs": [
        {
          "execution_count": 1,
          "output_type": "execute_result",
          "data": {
            "text/plain": "17"
          },
          "metadata": {}
        }
      ],
      "execution_count": 1
    },
    {
      "id": "798fe8f4-4388-43f7-b8d3-ee31568c8682",
      "cell_type": "markdown",
      "source": "# This will convert 200 minutes to hours by dividing by 60\n",
      "metadata": {}
    },
    {
      "id": "b81654dc-95b7-4ec8-8207-4a3c3cbc2db8",
      "cell_type": "code",
      "source": "200 / 60\n",
      "metadata": {
        "trusted": true
      },
      "outputs": [
        {
          "execution_count": 2,
          "output_type": "execute_result",
          "data": {
            "text/plain": "3.3333333333333335"
          },
          "metadata": {}
        }
      ],
      "execution_count": 2
    },
    {
      "id": "bbd2037c-748b-47c0-b935-c47e06a53103",
      "cell_type": "markdown",
      "source": "**Objectives:**\n\n- List popular languages for Data Science\n- Identify commonly used libraries in Data Science\n- Demonstrate arithmetic expressions in Python\n- Use markdown to structure a notebook\n- Share a notebook via GitHub\n",
      "metadata": {}
    },
    {
      "id": "78fa14b3-f4ab-45ef-97fb-8e745cd5fa93",
      "cell_type": "markdown",
      "source": "## Author\n\nKaviyashree J\n",
      "metadata": {}
    },
    {
      "id": "cee7b07f-1bc9-4a6b-9a42-f1ffa9c091c1",
      "cell_type": "code",
      "source": "",
      "metadata": {
        "trusted": true
      },
      "outputs": [],
      "execution_count": null
    },
    {
      "id": "b1106c86-cd01-43cd-aec5-a44b4ff6fb81",
      "cell_type": "code",
      "source": "",
      "metadata": {
        "trusted": true
      },
      "outputs": [],
      "execution_count": null
    }
  ]
}